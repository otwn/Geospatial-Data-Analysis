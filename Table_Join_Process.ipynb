{
  "nbformat": 4,
  "nbformat_minor": 0,
  "metadata": {
    "colab": {
      "name": "Table_Join_Process.ipynb",
      "provenance": [],
      "collapsed_sections": [],
      "mount_file_id": "1MKPdhRVu4NKYOZ_CuP4fgVTaL9PIWrWV",
      "authorship_tag": "ABX9TyOCMyyym6dvVa9p8GmTlDnn",
      "include_colab_link": true
    },
    "kernelspec": {
      "name": "python3",
      "display_name": "Python 3"
    }
  },
  "cells": [
    {
      "cell_type": "markdown",
      "metadata": {
        "id": "view-in-github",
        "colab_type": "text"
      },
      "source": [
        "<a href=\"https://colab.research.google.com/github/otwn/Geospatial-Analysis-Examples/blob/master/Table_Join_Process.ipynb\" target=\"_parent\"><img src=\"https://colab.research.google.com/assets/colab-badge.svg\" alt=\"Open In Colab\"/></a>"
      ]
    },
    {
      "cell_type": "markdown",
      "metadata": {
        "id": "87HYuSGqziW2",
        "colab_type": "text"
      },
      "source": [
        "# Setting"
      ]
    },
    {
      "cell_type": "code",
      "metadata": {
        "id": "jURXDQ7SyvWh",
        "colab_type": "code",
        "colab": {}
      },
      "source": [
        "import subprocess\n",
        "\n",
        "# GeoPandas\n",
        "try:\n",
        "    import geopandas as gpd\n",
        "except ImportError:\n",
        "    print('geopandas package not installed. Installing ...')\n",
        "    subprocess.check_call([\"python\", '-m', 'pip', 'install', 'geopandas'])\n",
        "    import geopandas as gpd\n",
        "\n",
        "\n",
        "# Geemap\n",
        "try:\n",
        "    import geemap\n",
        "except ImportError:\n",
        "    print('geemap package not installed. Installing ...')\n",
        "    subprocess.check_call([\"python\", '-m', 'pip', 'install', 'geemap'])\n",
        "\n",
        "# Google Colab\n",
        "try: \n",
        "  import google.colab\n",
        "  import geemap.eefolium as emap\n",
        "except:\n",
        "  import geemap as emap\n",
        "\n",
        "# Authenticates and initializes Earth Engine\n",
        "import ee\n",
        "\n",
        "try:\n",
        "    ee.Initialize()\n",
        "except Exception as e:\n",
        "    ee.Authenticate()\n",
        "    ee.Initialize()    "
      ],
      "execution_count": null,
      "outputs": []
    },
    {
      "cell_type": "markdown",
      "metadata": {
        "id": "zSFv39OozlS9",
        "colab_type": "text"
      },
      "source": [
        "# Data"
      ]
    },
    {
      "cell_type": "code",
      "metadata": {
        "id": "DsoPyY6myz3h",
        "colab_type": "code",
        "colab": {
          "base_uri": "https://localhost:8080/",
          "height": 202
        },
        "outputId": "00784168-763a-4cd9-f42a-d669c284d3b8"
      },
      "source": [
        "world = gpd.read_file(gpd.datasets.get_path('naturalearth_lowres'))\n",
        "europe = world.loc[world.continent == 'Europe'].reset_index(drop=True)\n",
        "europe.head()\n"
      ],
      "execution_count": null,
      "outputs": [
        {
          "output_type": "execute_result",
          "data": {
            "text/html": [
              "<div>\n",
              "<style scoped>\n",
              "    .dataframe tbody tr th:only-of-type {\n",
              "        vertical-align: middle;\n",
              "    }\n",
              "\n",
              "    .dataframe tbody tr th {\n",
              "        vertical-align: top;\n",
              "    }\n",
              "\n",
              "    .dataframe thead th {\n",
              "        text-align: right;\n",
              "    }\n",
              "</style>\n",
              "<table border=\"1\" class=\"dataframe\">\n",
              "  <thead>\n",
              "    <tr style=\"text-align: right;\">\n",
              "      <th></th>\n",
              "      <th>pop_est</th>\n",
              "      <th>continent</th>\n",
              "      <th>name</th>\n",
              "      <th>iso_a3</th>\n",
              "      <th>gdp_md_est</th>\n",
              "      <th>geometry</th>\n",
              "    </tr>\n",
              "  </thead>\n",
              "  <tbody>\n",
              "    <tr>\n",
              "      <th>0</th>\n",
              "      <td>142257519</td>\n",
              "      <td>Europe</td>\n",
              "      <td>Russia</td>\n",
              "      <td>RUS</td>\n",
              "      <td>3745000.0</td>\n",
              "      <td>MULTIPOLYGON (((178.725 71.099, 180.000 71.516...</td>\n",
              "    </tr>\n",
              "    <tr>\n",
              "      <th>1</th>\n",
              "      <td>5320045</td>\n",
              "      <td>Europe</td>\n",
              "      <td>Norway</td>\n",
              "      <td>-99</td>\n",
              "      <td>364700.0</td>\n",
              "      <td>MULTIPOLYGON (((15.143 79.674, 15.523 80.016, ...</td>\n",
              "    </tr>\n",
              "    <tr>\n",
              "      <th>2</th>\n",
              "      <td>67106161</td>\n",
              "      <td>Europe</td>\n",
              "      <td>France</td>\n",
              "      <td>-99</td>\n",
              "      <td>2699000.0</td>\n",
              "      <td>MULTIPOLYGON (((-51.658 4.156, -52.249 3.241, ...</td>\n",
              "    </tr>\n",
              "    <tr>\n",
              "      <th>3</th>\n",
              "      <td>9960487</td>\n",
              "      <td>Europe</td>\n",
              "      <td>Sweden</td>\n",
              "      <td>SWE</td>\n",
              "      <td>498100.0</td>\n",
              "      <td>POLYGON ((11.027 58.856, 11.468 59.432, 12.300...</td>\n",
              "    </tr>\n",
              "    <tr>\n",
              "      <th>4</th>\n",
              "      <td>9549747</td>\n",
              "      <td>Europe</td>\n",
              "      <td>Belarus</td>\n",
              "      <td>BLR</td>\n",
              "      <td>165400.0</td>\n",
              "      <td>POLYGON ((28.177 56.169, 29.230 55.918, 29.372...</td>\n",
              "    </tr>\n",
              "  </tbody>\n",
              "</table>\n",
              "</div>"
            ],
            "text/plain": [
              "     pop_est  ...                                           geometry\n",
              "0  142257519  ...  MULTIPOLYGON (((178.725 71.099, 180.000 71.516...\n",
              "1    5320045  ...  MULTIPOLYGON (((15.143 79.674, 15.523 80.016, ...\n",
              "2   67106161  ...  MULTIPOLYGON (((-51.658 4.156, -52.249 3.241, ...\n",
              "3    9960487  ...  POLYGON ((11.027 58.856, 11.468 59.432, 12.300...\n",
              "4    9549747  ...  POLYGON ((28.177 56.169, 29.230 55.918, 29.372...\n",
              "\n",
              "[5 rows x 6 columns]"
            ]
          },
          "metadata": {
            "tags": []
          },
          "execution_count": 16
        }
      ]
    },
    {
      "cell_type": "code",
      "metadata": {
        "id": "TlpqLZSxzZfx",
        "colab_type": "code",
        "colab": {
          "base_uri": "https://localhost:8080/",
          "height": 202
        },
        "outputId": "4038d5e4-8fc3-432b-ef5c-6628ac5003e1"
      },
      "source": [
        "europe_stats = europe[[\"name\", \"pop_est\", \"gdp_md_est\"]]\n",
        "europe_stats.head()"
      ],
      "execution_count": null,
      "outputs": [
        {
          "output_type": "execute_result",
          "data": {
            "text/html": [
              "<div>\n",
              "<style scoped>\n",
              "    .dataframe tbody tr th:only-of-type {\n",
              "        vertical-align: middle;\n",
              "    }\n",
              "\n",
              "    .dataframe tbody tr th {\n",
              "        vertical-align: top;\n",
              "    }\n",
              "\n",
              "    .dataframe thead th {\n",
              "        text-align: right;\n",
              "    }\n",
              "</style>\n",
              "<table border=\"1\" class=\"dataframe\">\n",
              "  <thead>\n",
              "    <tr style=\"text-align: right;\">\n",
              "      <th></th>\n",
              "      <th>name</th>\n",
              "      <th>pop_est</th>\n",
              "      <th>gdp_md_est</th>\n",
              "    </tr>\n",
              "  </thead>\n",
              "  <tbody>\n",
              "    <tr>\n",
              "      <th>0</th>\n",
              "      <td>Russia</td>\n",
              "      <td>142257519</td>\n",
              "      <td>3745000.0</td>\n",
              "    </tr>\n",
              "    <tr>\n",
              "      <th>1</th>\n",
              "      <td>Norway</td>\n",
              "      <td>5320045</td>\n",
              "      <td>364700.0</td>\n",
              "    </tr>\n",
              "    <tr>\n",
              "      <th>2</th>\n",
              "      <td>France</td>\n",
              "      <td>67106161</td>\n",
              "      <td>2699000.0</td>\n",
              "    </tr>\n",
              "    <tr>\n",
              "      <th>3</th>\n",
              "      <td>Sweden</td>\n",
              "      <td>9960487</td>\n",
              "      <td>498100.0</td>\n",
              "    </tr>\n",
              "    <tr>\n",
              "      <th>4</th>\n",
              "      <td>Belarus</td>\n",
              "      <td>9549747</td>\n",
              "      <td>165400.0</td>\n",
              "    </tr>\n",
              "  </tbody>\n",
              "</table>\n",
              "</div>"
            ],
            "text/plain": [
              "      name    pop_est  gdp_md_est\n",
              "0   Russia  142257519   3745000.0\n",
              "1   Norway    5320045    364700.0\n",
              "2   France   67106161   2699000.0\n",
              "3   Sweden    9960487    498100.0\n",
              "4  Belarus    9549747    165400.0"
            ]
          },
          "metadata": {
            "tags": []
          },
          "execution_count": 17
        }
      ]
    },
    {
      "cell_type": "code",
      "metadata": {
        "id": "emVwDx0Zy8Gu",
        "colab_type": "code",
        "colab": {
          "base_uri": "https://localhost:8080/",
          "height": 202
        },
        "outputId": "e7a69c9b-7b47-4014-9262-c28c076bdf2d"
      },
      "source": [
        "europe_boundaries = europe[[\"name\", \"geometry\"]]\n",
        "europe_boundaries.head()"
      ],
      "execution_count": null,
      "outputs": [
        {
          "output_type": "execute_result",
          "data": {
            "text/html": [
              "<div>\n",
              "<style scoped>\n",
              "    .dataframe tbody tr th:only-of-type {\n",
              "        vertical-align: middle;\n",
              "    }\n",
              "\n",
              "    .dataframe tbody tr th {\n",
              "        vertical-align: top;\n",
              "    }\n",
              "\n",
              "    .dataframe thead th {\n",
              "        text-align: right;\n",
              "    }\n",
              "</style>\n",
              "<table border=\"1\" class=\"dataframe\">\n",
              "  <thead>\n",
              "    <tr style=\"text-align: right;\">\n",
              "      <th></th>\n",
              "      <th>name</th>\n",
              "      <th>geometry</th>\n",
              "    </tr>\n",
              "  </thead>\n",
              "  <tbody>\n",
              "    <tr>\n",
              "      <th>0</th>\n",
              "      <td>Russia</td>\n",
              "      <td>MULTIPOLYGON (((178.725 71.099, 180.000 71.516...</td>\n",
              "    </tr>\n",
              "    <tr>\n",
              "      <th>1</th>\n",
              "      <td>Norway</td>\n",
              "      <td>MULTIPOLYGON (((15.143 79.674, 15.523 80.016, ...</td>\n",
              "    </tr>\n",
              "    <tr>\n",
              "      <th>2</th>\n",
              "      <td>France</td>\n",
              "      <td>MULTIPOLYGON (((-51.658 4.156, -52.249 3.241, ...</td>\n",
              "    </tr>\n",
              "    <tr>\n",
              "      <th>3</th>\n",
              "      <td>Sweden</td>\n",
              "      <td>POLYGON ((11.027 58.856, 11.468 59.432, 12.300...</td>\n",
              "    </tr>\n",
              "    <tr>\n",
              "      <th>4</th>\n",
              "      <td>Belarus</td>\n",
              "      <td>POLYGON ((28.177 56.169, 29.230 55.918, 29.372...</td>\n",
              "    </tr>\n",
              "  </tbody>\n",
              "</table>\n",
              "</div>"
            ],
            "text/plain": [
              "      name                                           geometry\n",
              "0   Russia  MULTIPOLYGON (((178.725 71.099, 180.000 71.516...\n",
              "1   Norway  MULTIPOLYGON (((15.143 79.674, 15.523 80.016, ...\n",
              "2   France  MULTIPOLYGON (((-51.658 4.156, -52.249 3.241, ...\n",
              "3   Sweden  POLYGON ((11.027 58.856, 11.468 59.432, 12.300...\n",
              "4  Belarus  POLYGON ((28.177 56.169, 29.230 55.918, 29.372..."
            ]
          },
          "metadata": {
            "tags": []
          },
          "execution_count": 18
        }
      ]
    },
    {
      "cell_type": "markdown",
      "metadata": {
        "id": "V29-W-G0zto3",
        "colab_type": "text"
      },
      "source": [
        "# Stafrt from Table Join\n",
        "\n",
        "Use an attribute table join to merge data"
      ]
    },
    {
      "cell_type": "code",
      "metadata": {
        "id": "Z7gP4Gskz2YB",
        "colab_type": "code",
        "colab": {
          "base_uri": "https://localhost:8080/",
          "height": 202
        },
        "outputId": "3627ab55-3957-4b1e-e0a4-eed6425c014c"
      },
      "source": [
        "europe = europe_boundaries.merge(europe_stats, on=\"name\")\n",
        "europe.head()"
      ],
      "execution_count": null,
      "outputs": [
        {
          "output_type": "execute_result",
          "data": {
            "text/html": [
              "<div>\n",
              "<style scoped>\n",
              "    .dataframe tbody tr th:only-of-type {\n",
              "        vertical-align: middle;\n",
              "    }\n",
              "\n",
              "    .dataframe tbody tr th {\n",
              "        vertical-align: top;\n",
              "    }\n",
              "\n",
              "    .dataframe thead th {\n",
              "        text-align: right;\n",
              "    }\n",
              "</style>\n",
              "<table border=\"1\" class=\"dataframe\">\n",
              "  <thead>\n",
              "    <tr style=\"text-align: right;\">\n",
              "      <th></th>\n",
              "      <th>name</th>\n",
              "      <th>geometry</th>\n",
              "      <th>pop_est</th>\n",
              "      <th>gdp_md_est</th>\n",
              "    </tr>\n",
              "  </thead>\n",
              "  <tbody>\n",
              "    <tr>\n",
              "      <th>0</th>\n",
              "      <td>Russia</td>\n",
              "      <td>MULTIPOLYGON (((178.725 71.099, 180.000 71.516...</td>\n",
              "      <td>142257519</td>\n",
              "      <td>3745000.0</td>\n",
              "    </tr>\n",
              "    <tr>\n",
              "      <th>1</th>\n",
              "      <td>Norway</td>\n",
              "      <td>MULTIPOLYGON (((15.143 79.674, 15.523 80.016, ...</td>\n",
              "      <td>5320045</td>\n",
              "      <td>364700.0</td>\n",
              "    </tr>\n",
              "    <tr>\n",
              "      <th>2</th>\n",
              "      <td>France</td>\n",
              "      <td>MULTIPOLYGON (((-51.658 4.156, -52.249 3.241, ...</td>\n",
              "      <td>67106161</td>\n",
              "      <td>2699000.0</td>\n",
              "    </tr>\n",
              "    <tr>\n",
              "      <th>3</th>\n",
              "      <td>Sweden</td>\n",
              "      <td>POLYGON ((11.027 58.856, 11.468 59.432, 12.300...</td>\n",
              "      <td>9960487</td>\n",
              "      <td>498100.0</td>\n",
              "    </tr>\n",
              "    <tr>\n",
              "      <th>4</th>\n",
              "      <td>Belarus</td>\n",
              "      <td>POLYGON ((28.177 56.169, 29.230 55.918, 29.372...</td>\n",
              "      <td>9549747</td>\n",
              "      <td>165400.0</td>\n",
              "    </tr>\n",
              "  </tbody>\n",
              "</table>\n",
              "</div>"
            ],
            "text/plain": [
              "      name  ... gdp_md_est\n",
              "0   Russia  ...  3745000.0\n",
              "1   Norway  ...   364700.0\n",
              "2   France  ...  2699000.0\n",
              "3   Sweden  ...   498100.0\n",
              "4  Belarus  ...   165400.0\n",
              "\n",
              "[5 rows x 4 columns]"
            ]
          },
          "metadata": {
            "tags": []
          },
          "execution_count": 19
        }
      ]
    },
    {
      "cell_type": "markdown",
      "metadata": {
        "id": "2vO5nikYznst",
        "colab_type": "text"
      },
      "source": [
        "# Spatial Join"
      ]
    },
    {
      "cell_type": "code",
      "metadata": {
        "id": "HC4TU9iezP8-",
        "colab_type": "code",
        "colab": {
          "base_uri": "https://localhost:8080/",
          "height": 257
        },
        "outputId": "bf9f0684-bbf9-4ac2-cc99-688eb0cfb1b7"
      },
      "source": [
        "import pandas as pd\n",
        "import numpy as np\n",
        "from geopandas.tools import geocode\n",
        "\n",
        "def my_geocoder(row):\n",
        "  try:\n",
        "    point = geocode(row, provider=\"nominatim\").geometry.iloc[0]\n",
        "    return pd.Series({\"Latitude\":point.y, \"Longitude\":point.x, \"geometry\": point})\n",
        "  except:\n",
        "    return None\n",
        "\n",
        "universities = pd.read_csv(\"/content/drive/My Drive/Colab Notebooks/Geospatial/top_universities.csv\")\n",
        "universities[ [\"Latitude\", \"Longitude\", \"geometry\"] ] = universities.apply(lambda x: my_geocoder(x[\"Name\"]), axis=1)\n",
        "universities = universities.loc[~np.isnan(universities[\"Latitude\"])]\n",
        "universities = gpd.GeoDataFrame(universities, geometry=universities.geometry)\n",
        "universities.head()"
      ],
      "execution_count": null,
      "outputs": [
        {
          "output_type": "stream",
          "text": [
            "/usr/local/lib/python3.6/dist-packages/geopy/geocoders/osm.py:143: UserWarning: Using Nominatim with the default \"geopy/1.17.0\" `user_agent` is strongly discouraged, as it violates Nominatim's ToS https://operations.osmfoundation.org/policies/nominatim/ and may possibly cause 403 and 429 HTTP errors. Please specify a custom `user_agent` with `Nominatim(user_agent=\"my-application\")` or by overriding the default `user_agent`: `geopy.geocoders.options.default_user_agent = \"my-application\"`. In geopy 2.0 this will become an exception.\n",
            "  UserWarning\n"
          ],
          "name": "stderr"
        },
        {
          "output_type": "execute_result",
          "data": {
            "text/html": [
              "<div>\n",
              "<style scoped>\n",
              "    .dataframe tbody tr th:only-of-type {\n",
              "        vertical-align: middle;\n",
              "    }\n",
              "\n",
              "    .dataframe tbody tr th {\n",
              "        vertical-align: top;\n",
              "    }\n",
              "\n",
              "    .dataframe thead th {\n",
              "        text-align: right;\n",
              "    }\n",
              "</style>\n",
              "<table border=\"1\" class=\"dataframe\">\n",
              "  <thead>\n",
              "    <tr style=\"text-align: right;\">\n",
              "      <th></th>\n",
              "      <th>Name</th>\n",
              "      <th>Latitude</th>\n",
              "      <th>Longitude</th>\n",
              "      <th>geometry</th>\n",
              "    </tr>\n",
              "  </thead>\n",
              "  <tbody>\n",
              "    <tr>\n",
              "      <th>0</th>\n",
              "      <td>University of Oxford</td>\n",
              "      <td>51.758708</td>\n",
              "      <td>-1.255668</td>\n",
              "      <td>POINT (-1.25567 51.75871)</td>\n",
              "    </tr>\n",
              "    <tr>\n",
              "      <th>1</th>\n",
              "      <td>University of Cambridge</td>\n",
              "      <td>52.199852</td>\n",
              "      <td>0.119739</td>\n",
              "      <td>POINT (0.11974 52.19985)</td>\n",
              "    </tr>\n",
              "    <tr>\n",
              "      <th>2</th>\n",
              "      <td>Imperial College London</td>\n",
              "      <td>51.498871</td>\n",
              "      <td>-0.175608</td>\n",
              "      <td>POINT (-0.17561 51.49887)</td>\n",
              "    </tr>\n",
              "    <tr>\n",
              "      <th>3</th>\n",
              "      <td>ETH Zurich</td>\n",
              "      <td>47.377327</td>\n",
              "      <td>8.547509</td>\n",
              "      <td>POINT (8.54751 47.37733)</td>\n",
              "    </tr>\n",
              "    <tr>\n",
              "      <th>4</th>\n",
              "      <td>UCL</td>\n",
              "      <td>51.524126</td>\n",
              "      <td>-0.132930</td>\n",
              "      <td>POINT (-0.13293 51.52413)</td>\n",
              "    </tr>\n",
              "  </tbody>\n",
              "</table>\n",
              "</div>"
            ],
            "text/plain": [
              "                      Name   Latitude  Longitude                   geometry\n",
              "0     University of Oxford  51.758708  -1.255668  POINT (-1.25567 51.75871)\n",
              "1  University of Cambridge  52.199852   0.119739   POINT (0.11974 52.19985)\n",
              "2  Imperial College London  51.498871  -0.175608  POINT (-0.17561 51.49887)\n",
              "3               ETH Zurich  47.377327   8.547509   POINT (8.54751 47.37733)\n",
              "4                      UCL  51.524126  -0.132930  POINT (-0.13293 51.52413)"
            ]
          },
          "metadata": {
            "tags": []
          },
          "execution_count": 22
        }
      ]
    },
    {
      "cell_type": "code",
      "metadata": {
        "id": "vlnrKW4W7H0H",
        "colab_type": "code",
        "colab": {
          "base_uri": "https://localhost:8080/",
          "height": 52
        },
        "outputId": "2163e971-ef5e-45ec-ec92-76b18144d1b3"
      },
      "source": [
        "universities = universities.to_crs(\"epsg:4326\")\n",
        "print(universities.crs)\n",
        "print(europe.crs)"
      ],
      "execution_count": null,
      "outputs": [
        {
          "output_type": "stream",
          "text": [
            "EPSG:4326\n",
            "epsg:4326\n"
          ],
          "name": "stdout"
        }
      ]
    },
    {
      "cell_type": "code",
      "metadata": {
        "id": "FLAiLGW80jCX",
        "colab_type": "code",
        "colab": {
          "base_uri": "https://localhost:8080/",
          "height": 467
        },
        "outputId": "4f230384-d0c9-4129-98dd-a653d29e9656"
      },
      "source": [
        "european_universities = gpd.sjoin(universities, europe, how=\"inner\", op=\"intersects\")"
      ],
      "execution_count": null,
      "outputs": [
        {
          "output_type": "error",
          "ename": "ImportError",
          "evalue": "ignored",
          "traceback": [
            "\u001b[0;31m---------------------------------------------------------------------------\u001b[0m",
            "\u001b[0;31mImportError\u001b[0m                               Traceback (most recent call last)",
            "\u001b[0;32m<ipython-input-33-23699b4efdac>\u001b[0m in \u001b[0;36m<module>\u001b[0;34m()\u001b[0m\n\u001b[0;32m----> 1\u001b[0;31m \u001b[0meuropean_universities\u001b[0m \u001b[0;34m=\u001b[0m \u001b[0mgpd\u001b[0m\u001b[0;34m.\u001b[0m\u001b[0msjoin\u001b[0m\u001b[0;34m(\u001b[0m\u001b[0muniversities\u001b[0m\u001b[0;34m,\u001b[0m \u001b[0meurope\u001b[0m\u001b[0;34m,\u001b[0m \u001b[0mhow\u001b[0m\u001b[0;34m=\u001b[0m\u001b[0;34m\"inner\"\u001b[0m\u001b[0;34m,\u001b[0m \u001b[0mop\u001b[0m\u001b[0;34m=\u001b[0m\u001b[0;34m\"intersects\"\u001b[0m\u001b[0;34m)\u001b[0m\u001b[0;34m\u001b[0m\u001b[0;34m\u001b[0m\u001b[0m\n\u001b[0m",
            "\u001b[0;32m/usr/local/lib/python3.6/dist-packages/geopandas/tools/sjoin.py\u001b[0m in \u001b[0;36msjoin\u001b[0;34m(left_df, right_df, how, op, lsuffix, rsuffix)\u001b[0m\n\u001b[1;32m     86\u001b[0m             \u001b[0;31m# keep them the same\u001b[0m\u001b[0;34m\u001b[0m\u001b[0;34m\u001b[0m\u001b[0;34m\u001b[0m\u001b[0m\n\u001b[1;32m     87\u001b[0m             \u001b[0mpredicate\u001b[0m \u001b[0;34m=\u001b[0m \u001b[0mop\u001b[0m\u001b[0;34m\u001b[0m\u001b[0;34m\u001b[0m\u001b[0m\n\u001b[0;32m---> 88\u001b[0;31m             \u001b[0msindex\u001b[0m \u001b[0;34m=\u001b[0m \u001b[0mright_df\u001b[0m\u001b[0;34m.\u001b[0m\u001b[0msindex\u001b[0m\u001b[0;34m\u001b[0m\u001b[0;34m\u001b[0m\u001b[0m\n\u001b[0m\u001b[1;32m     89\u001b[0m             \u001b[0minput_geoms\u001b[0m \u001b[0;34m=\u001b[0m \u001b[0mleft_df\u001b[0m\u001b[0;34m.\u001b[0m\u001b[0mgeometry\u001b[0m\u001b[0;34m\u001b[0m\u001b[0;34m\u001b[0m\u001b[0m\n\u001b[1;32m     90\u001b[0m \u001b[0;34m\u001b[0m\u001b[0m\n",
            "\u001b[0;32m/usr/local/lib/python3.6/dist-packages/geopandas/base.py\u001b[0m in \u001b[0;36msindex\u001b[0;34m(self)\u001b[0m\n\u001b[1;32m    591\u001b[0m     \u001b[0;32mdef\u001b[0m \u001b[0msindex\u001b[0m\u001b[0;34m(\u001b[0m\u001b[0mself\u001b[0m\u001b[0;34m)\u001b[0m\u001b[0;34m:\u001b[0m\u001b[0;34m\u001b[0m\u001b[0;34m\u001b[0m\u001b[0m\n\u001b[1;32m    592\u001b[0m         \u001b[0;32mif\u001b[0m \u001b[0;32mnot\u001b[0m \u001b[0mself\u001b[0m\u001b[0;34m.\u001b[0m\u001b[0m_sindex_generated\u001b[0m\u001b[0;34m:\u001b[0m\u001b[0;34m\u001b[0m\u001b[0;34m\u001b[0m\u001b[0m\n\u001b[0;32m--> 593\u001b[0;31m             \u001b[0mself\u001b[0m\u001b[0;34m.\u001b[0m\u001b[0m_generate_sindex\u001b[0m\u001b[0;34m(\u001b[0m\u001b[0;34m)\u001b[0m\u001b[0;34m\u001b[0m\u001b[0;34m\u001b[0m\u001b[0m\n\u001b[0m\u001b[1;32m    594\u001b[0m         \u001b[0;32mreturn\u001b[0m \u001b[0mself\u001b[0m\u001b[0;34m.\u001b[0m\u001b[0m_sindex\u001b[0m\u001b[0;34m\u001b[0m\u001b[0;34m\u001b[0m\u001b[0m\n\u001b[1;32m    595\u001b[0m \u001b[0;34m\u001b[0m\u001b[0m\n",
            "\u001b[0;32m/usr/local/lib/python3.6/dist-packages/geopandas/base.py\u001b[0m in \u001b[0;36m_generate_sindex\u001b[0;34m(self)\u001b[0m\n\u001b[1;32m     96\u001b[0m \u001b[0;34m\u001b[0m\u001b[0m\n\u001b[1;32m     97\u001b[0m     \u001b[0;32mdef\u001b[0m \u001b[0m_generate_sindex\u001b[0m\u001b[0;34m(\u001b[0m\u001b[0mself\u001b[0m\u001b[0;34m)\u001b[0m\u001b[0;34m:\u001b[0m\u001b[0;34m\u001b[0m\u001b[0;34m\u001b[0m\u001b[0m\n\u001b[0;32m---> 98\u001b[0;31m         \u001b[0msindex_cls\u001b[0m \u001b[0;34m=\u001b[0m \u001b[0mget_sindex_class\u001b[0m\u001b[0;34m(\u001b[0m\u001b[0;34m)\u001b[0m\u001b[0;34m\u001b[0m\u001b[0;34m\u001b[0m\u001b[0m\n\u001b[0m\u001b[1;32m     99\u001b[0m         \u001b[0;32mif\u001b[0m \u001b[0msindex_cls\u001b[0m \u001b[0;32mis\u001b[0m \u001b[0;32mnot\u001b[0m \u001b[0;32mNone\u001b[0m\u001b[0;34m:\u001b[0m\u001b[0;34m\u001b[0m\u001b[0;34m\u001b[0m\u001b[0m\n\u001b[1;32m    100\u001b[0m             \u001b[0m_sindex\u001b[0m \u001b[0;34m=\u001b[0m \u001b[0msindex_cls\u001b[0m\u001b[0;34m(\u001b[0m\u001b[0mself\u001b[0m\u001b[0;34m.\u001b[0m\u001b[0mgeometry\u001b[0m\u001b[0;34m)\u001b[0m\u001b[0;34m\u001b[0m\u001b[0;34m\u001b[0m\u001b[0m\n",
            "\u001b[0;32m/usr/local/lib/python3.6/dist-packages/geopandas/sindex.py\u001b[0m in \u001b[0;36mget_sindex_class\u001b[0;34m()\u001b[0m\n\u001b[1;32m     41\u001b[0m         \u001b[0;32mreturn\u001b[0m \u001b[0mRTreeIndex\u001b[0m\u001b[0;34m\u001b[0m\u001b[0;34m\u001b[0m\u001b[0m\n\u001b[1;32m     42\u001b[0m     raise ImportError(\n\u001b[0;32m---> 43\u001b[0;31m         \u001b[0;34m\"Spatial indexes require either `rtree` or `pygeos`. \"\u001b[0m\u001b[0;34m\u001b[0m\u001b[0;34m\u001b[0m\u001b[0m\n\u001b[0m\u001b[1;32m     44\u001b[0m         \u001b[0;34m\"See installation instructions at https://geopandas.org/install.html\"\u001b[0m\u001b[0;34m\u001b[0m\u001b[0;34m\u001b[0m\u001b[0m\n\u001b[1;32m     45\u001b[0m     )\n",
            "\u001b[0;31mImportError\u001b[0m: Spatial indexes require either `rtree` or `pygeos`. See installation instructions at https://geopandas.org/install.html",
            "",
            "\u001b[0;31m---------------------------------------------------------------------------\u001b[0;32m\nNOTE: If your import is failing due to a missing package, you can\nmanually install dependencies using either !pip or !apt.\n\nTo view examples of installing some common dependencies, click the\n\"Open Examples\" button below.\n\u001b[0;31m---------------------------------------------------------------------------\u001b[0m\n"
          ]
        }
      ]
    },
    {
      "cell_type": "code",
      "metadata": {
        "id": "Baa-ApRx6o_f",
        "colab_type": "code",
        "colab": {}
      },
      "source": [
        "m2 = emap.Map(center=[54,15], zoom=4)\n",
        "\n",
        "for idx, row in european_universities.iterrows():\n",
        "  emap.folium.Marker([row[\"Latitude\"], row[\"Longitude\"]], popup=row[\"Name\"]).add_to(m2)\n",
        "\n",
        "m2"
      ],
      "execution_count": null,
      "outputs": []
    },
    {
      "cell_type": "markdown",
      "metadata": {
        "id": "KoAwkMDPTVHz",
        "colab_type": "text"
      },
      "source": [
        "# Starbucks "
      ]
    },
    {
      "cell_type": "code",
      "metadata": {
        "id": "03DVXeIzTXd7",
        "colab_type": "code",
        "colab": {
          "base_uri": "https://localhost:8080/",
          "height": 139
        },
        "outputId": "e87f2594-ec57-4f8e-d43a-fd200c4e378c"
      },
      "source": [
        "starbucks = pd.read_csv(\"/content/drive/My Drive/Colab Notebooks/Geospatial/starbucks_locations.csv\")\n",
        "starbucks.isnull().sum()"
      ],
      "execution_count": null,
      "outputs": [
        {
          "output_type": "execute_result",
          "data": {
            "text/plain": [
              "Store Number    0\n",
              "Store Name      0\n",
              "Address         0\n",
              "City            0\n",
              "Longitude       5\n",
              "Latitude        5\n",
              "dtype: int64"
            ]
          },
          "metadata": {
            "tags": []
          },
          "execution_count": 38
        }
      ]
    },
    {
      "cell_type": "code",
      "metadata": {
        "id": "LBJCMbmlTmkJ",
        "colab_type": "code",
        "colab": {
          "base_uri": "https://localhost:8080/",
          "height": 193
        },
        "outputId": "29a4e385-8880-47b2-d6d8-4b2451b680dc"
      },
      "source": [
        "import numpy as np\n",
        "def my_geocoder(row):\n",
        "  point = geocode(row, provider='nominatim').geometry[0]\n",
        "  return pd.Series({\"Longitude\":point.x, \"Latitude\":point.y})\n",
        "\n",
        "missing_locations = starbucks[starbucks[\"City\"]==\"Berkeley\"].apply(lambda x: my_geocoder(x[\"Address\"]), axis=1)\n",
        "starbucks.update(missing_locations)\n",
        "starbucks.isnull().sum()"
      ],
      "execution_count": null,
      "outputs": [
        {
          "output_type": "stream",
          "text": [
            "/usr/local/lib/python3.6/dist-packages/geopy/geocoders/osm.py:143: UserWarning: Using Nominatim with the default \"geopy/1.17.0\" `user_agent` is strongly discouraged, as it violates Nominatim's ToS https://operations.osmfoundation.org/policies/nominatim/ and may possibly cause 403 and 429 HTTP errors. Please specify a custom `user_agent` with `Nominatim(user_agent=\"my-application\")` or by overriding the default `user_agent`: `geopy.geocoders.options.default_user_agent = \"my-application\"`. In geopy 2.0 this will become an exception.\n",
            "  UserWarning\n"
          ],
          "name": "stderr"
        },
        {
          "output_type": "execute_result",
          "data": {
            "text/plain": [
              "Store Number    0\n",
              "Store Name      0\n",
              "Address         0\n",
              "City            0\n",
              "Longitude       0\n",
              "Latitude        0\n",
              "dtype: int64"
            ]
          },
          "metadata": {
            "tags": []
          },
          "execution_count": 40
        }
      ]
    },
    {
      "cell_type": "code",
      "metadata": {
        "id": "wk15-pB_Txbo",
        "colab_type": "code",
        "colab": {
          "base_uri": "https://localhost:8080/",
          "height": 592
        },
        "outputId": "d7f08bc2-f0fc-466c-dcd9-de66ffd7fa7b"
      },
      "source": [
        "m3 = emap.Map(center=[37.88, -122.26], zoom=13)\n",
        "\n",
        "for idx, row in missing_locations.iterrows():\n",
        "  emap.folium.Marker([ row[\"Latitude\"], row[\"Longitude\"]]).add_to(m3)\n",
        "\n",
        "m3"
      ],
      "execution_count": null,
      "outputs": [
        {
          "output_type": "execute_result",
          "data": {
            "text/html": [
              "<div style=\"width:100%;\"><div style=\"position:relative;width:100%;height:0;padding-bottom:60%;\"><span style=\"color:#565656\">Make this Notebook Trusted to load map: File -> Trust Notebook</span><iframe src=\"about:blank\" style=\"position:absolute;width:100%;height:100%;left:0;top:0;border:none !important;\" data-html=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 onload=\"this.contentDocument.open();this.contentDocument.write(atob(this.getAttribute('data-html')));this.contentDocument.close();\" allowfullscreen webkitallowfullscreen mozallowfullscreen></iframe></div></div>"
            ],
            "text/plain": [
              "<geemap.eefolium.Map at 0x7f5ca06b14e0>"
            ]
          },
          "metadata": {
            "tags": []
          },
          "execution_count": 44
        }
      ]
    },
    {
      "cell_type": "code",
      "metadata": {
        "id": "TWQCF5zUUOWX",
        "colab_type": "code",
        "colab": {
          "base_uri": "https://localhost:8080/",
          "height": 202
        },
        "outputId": "90437d73-0768-48f5-b035-8281b4179944"
      },
      "source": [
        "CA_counties = gpd.read_file(\"/content/drive/My Drive/Colab Notebooks/Geospatial/CA_county_boundaries/CA_county_boundaries.shp\")\n",
        "CA_counties.head()"
      ],
      "execution_count": null,
      "outputs": [
        {
          "output_type": "execute_result",
          "data": {
            "text/html": [
              "<div>\n",
              "<style scoped>\n",
              "    .dataframe tbody tr th:only-of-type {\n",
              "        vertical-align: middle;\n",
              "    }\n",
              "\n",
              "    .dataframe tbody tr th {\n",
              "        vertical-align: top;\n",
              "    }\n",
              "\n",
              "    .dataframe thead th {\n",
              "        text-align: right;\n",
              "    }\n",
              "</style>\n",
              "<table border=\"1\" class=\"dataframe\">\n",
              "  <thead>\n",
              "    <tr style=\"text-align: right;\">\n",
              "      <th></th>\n",
              "      <th>GEOID</th>\n",
              "      <th>name</th>\n",
              "      <th>area_sqkm</th>\n",
              "      <th>geometry</th>\n",
              "    </tr>\n",
              "  </thead>\n",
              "  <tbody>\n",
              "    <tr>\n",
              "      <th>0</th>\n",
              "      <td>6091</td>\n",
              "      <td>Sierra County</td>\n",
              "      <td>2491.995494</td>\n",
              "      <td>POLYGON ((-120.65560 39.69357, -120.65554 39.6...</td>\n",
              "    </tr>\n",
              "    <tr>\n",
              "      <th>1</th>\n",
              "      <td>6067</td>\n",
              "      <td>Sacramento County</td>\n",
              "      <td>2575.258262</td>\n",
              "      <td>POLYGON ((-121.18858 38.71431, -121.18732 38.7...</td>\n",
              "    </tr>\n",
              "    <tr>\n",
              "      <th>2</th>\n",
              "      <td>6083</td>\n",
              "      <td>Santa Barbara County</td>\n",
              "      <td>9813.817958</td>\n",
              "      <td>MULTIPOLYGON (((-120.58191 34.09856, -120.5822...</td>\n",
              "    </tr>\n",
              "    <tr>\n",
              "      <th>3</th>\n",
              "      <td>6009</td>\n",
              "      <td>Calaveras County</td>\n",
              "      <td>2685.626726</td>\n",
              "      <td>POLYGON ((-120.63095 38.34111, -120.63058 38.3...</td>\n",
              "    </tr>\n",
              "    <tr>\n",
              "      <th>4</th>\n",
              "      <td>6111</td>\n",
              "      <td>Ventura County</td>\n",
              "      <td>5719.321379</td>\n",
              "      <td>MULTIPOLYGON (((-119.63631 33.27304, -119.6360...</td>\n",
              "    </tr>\n",
              "  </tbody>\n",
              "</table>\n",
              "</div>"
            ],
            "text/plain": [
              "   GEOID  ...                                           geometry\n",
              "0   6091  ...  POLYGON ((-120.65560 39.69357, -120.65554 39.6...\n",
              "1   6067  ...  POLYGON ((-121.18858 38.71431, -121.18732 38.7...\n",
              "2   6083  ...  MULTIPOLYGON (((-120.58191 34.09856, -120.5822...\n",
              "3   6009  ...  POLYGON ((-120.63095 38.34111, -120.63058 38.3...\n",
              "4   6111  ...  MULTIPOLYGON (((-119.63631 33.27304, -119.6360...\n",
              "\n",
              "[5 rows x 4 columns]"
            ]
          },
          "metadata": {
            "tags": []
          },
          "execution_count": 46
        }
      ]
    },
    {
      "cell_type": "code",
      "metadata": {
        "id": "gsliWwNDU42J",
        "colab_type": "code",
        "colab": {}
      },
      "source": [
        "CA_pop = pd.read_csv(\"/content/drive/My Drive/Colab Notebooks/Geospatial/CA_county_population.csv\", index_col=\"GEOID\")\n",
        "CA_high_earners = pd.read_csv(\"/content/drive/My Drive/Colab Notebooks/Geospatial/CA_county_high_earners.csv\", index_col=\"GEOID\")\n",
        "CA_median_age = pd.read_csv(\"/content/drive/My Drive/Colab Notebooks/Geospatial/CA_county_median_age.csv\", index_col=\"GEOID\")"
      ],
      "execution_count": null,
      "outputs": []
    },
    {
      "cell_type": "code",
      "metadata": {
        "id": "IOW4mzSBVJne",
        "colab_type": "code",
        "colab": {
          "base_uri": "https://localhost:8080/",
          "height": 208
        },
        "outputId": "7c33530d-ce6f-4856-fff5-b69800e498ee"
      },
      "source": [
        "CA_counties.crs"
      ],
      "execution_count": null,
      "outputs": [
        {
          "output_type": "execute_result",
          "data": {
            "text/plain": [
              "<Geographic 2D CRS: EPSG:4326>\n",
              "Name: WGS 84\n",
              "Axis Info [ellipsoidal]:\n",
              "- Lat[north]: Geodetic latitude (degree)\n",
              "- Lon[east]: Geodetic longitude (degree)\n",
              "Area of Use:\n",
              "- name: World\n",
              "- bounds: (-180.0, -90.0, 180.0, 90.0)\n",
              "Datum: World Geodetic System 1984\n",
              "- Ellipsoid: WGS 84\n",
              "- Prime Meridian: Greenwich"
            ]
          },
          "metadata": {
            "tags": []
          },
          "execution_count": 48
        }
      ]
    },
    {
      "cell_type": "code",
      "metadata": {
        "id": "ZbrQE6J7VMWI",
        "colab_type": "code",
        "colab": {
          "base_uri": "https://localhost:8080/",
          "height": 271
        },
        "outputId": "000f3bc7-d300-4e70-ef8d-703dd0943fa1"
      },
      "source": [
        "cols = CA_pop.join([CA_high_earners, CA_median_age]).reset_index()\n",
        "CA_stats = CA_counties.merge(cols, on=\"GEOID\")\n",
        "CA_stats.head()"
      ],
      "execution_count": null,
      "outputs": [
        {
          "output_type": "execute_result",
          "data": {
            "text/html": [
              "<div>\n",
              "<style scoped>\n",
              "    .dataframe tbody tr th:only-of-type {\n",
              "        vertical-align: middle;\n",
              "    }\n",
              "\n",
              "    .dataframe tbody tr th {\n",
              "        vertical-align: top;\n",
              "    }\n",
              "\n",
              "    .dataframe thead th {\n",
              "        text-align: right;\n",
              "    }\n",
              "</style>\n",
              "<table border=\"1\" class=\"dataframe\">\n",
              "  <thead>\n",
              "    <tr style=\"text-align: right;\">\n",
              "      <th></th>\n",
              "      <th>GEOID</th>\n",
              "      <th>name</th>\n",
              "      <th>area_sqkm</th>\n",
              "      <th>geometry</th>\n",
              "      <th>population</th>\n",
              "      <th>high_earners</th>\n",
              "      <th>median_age</th>\n",
              "    </tr>\n",
              "  </thead>\n",
              "  <tbody>\n",
              "    <tr>\n",
              "      <th>0</th>\n",
              "      <td>6091</td>\n",
              "      <td>Sierra County</td>\n",
              "      <td>2491.995494</td>\n",
              "      <td>POLYGON ((-120.65560 39.69357, -120.65554 39.6...</td>\n",
              "      <td>2987</td>\n",
              "      <td>111</td>\n",
              "      <td>55.0</td>\n",
              "    </tr>\n",
              "    <tr>\n",
              "      <th>1</th>\n",
              "      <td>6067</td>\n",
              "      <td>Sacramento County</td>\n",
              "      <td>2575.258262</td>\n",
              "      <td>POLYGON ((-121.18858 38.71431, -121.18732 38.7...</td>\n",
              "      <td>1540975</td>\n",
              "      <td>65768</td>\n",
              "      <td>35.9</td>\n",
              "    </tr>\n",
              "    <tr>\n",
              "      <th>2</th>\n",
              "      <td>6083</td>\n",
              "      <td>Santa Barbara County</td>\n",
              "      <td>9813.817958</td>\n",
              "      <td>MULTIPOLYGON (((-120.58191 34.09856, -120.5822...</td>\n",
              "      <td>446527</td>\n",
              "      <td>25231</td>\n",
              "      <td>33.7</td>\n",
              "    </tr>\n",
              "    <tr>\n",
              "      <th>3</th>\n",
              "      <td>6009</td>\n",
              "      <td>Calaveras County</td>\n",
              "      <td>2685.626726</td>\n",
              "      <td>POLYGON ((-120.63095 38.34111, -120.63058 38.3...</td>\n",
              "      <td>45602</td>\n",
              "      <td>2046</td>\n",
              "      <td>51.6</td>\n",
              "    </tr>\n",
              "    <tr>\n",
              "      <th>4</th>\n",
              "      <td>6111</td>\n",
              "      <td>Ventura County</td>\n",
              "      <td>5719.321379</td>\n",
              "      <td>MULTIPOLYGON (((-119.63631 33.27304, -119.6360...</td>\n",
              "      <td>850967</td>\n",
              "      <td>57121</td>\n",
              "      <td>37.5</td>\n",
              "    </tr>\n",
              "  </tbody>\n",
              "</table>\n",
              "</div>"
            ],
            "text/plain": [
              "   GEOID                  name  ...  high_earners median_age\n",
              "0   6091         Sierra County  ...           111       55.0\n",
              "1   6067     Sacramento County  ...         65768       35.9\n",
              "2   6083  Santa Barbara County  ...         25231       33.7\n",
              "3   6009      Calaveras County  ...          2046       51.6\n",
              "4   6111        Ventura County  ...         57121       37.5\n",
              "\n",
              "[5 rows x 7 columns]"
            ]
          },
          "metadata": {
            "tags": []
          },
          "execution_count": 50
        }
      ]
    },
    {
      "cell_type": "code",
      "metadata": {
        "id": "gQRy9tEWVPjZ",
        "colab_type": "code",
        "colab": {}
      },
      "source": [
        "CA_stats[\"density\"] = CA_stats[\"population\"] / CA_stats[\"area_sqkm\"]"
      ],
      "execution_count": null,
      "outputs": []
    },
    {
      "cell_type": "markdown",
      "metadata": {
        "id": "G0wXmRbIVZYG",
        "colab_type": "text"
      },
      "source": [
        "# Query Example\n",
        "\n",
        "Next, we create three DataFrames:\n",
        "- `CA_pop` contains an estimate of the population of each county.\n",
        "- `CA_high_earners` contains the number of households with an income of at least $150,000 per year.\n",
        "- `CA_median_age` contains the median age for each county.\n",
        "\n",
        "\n",
        "Collapsing all of the information into a single GeoDataFrame also makes it much easier to select counties that meet specific criteria.\n",
        "\n",
        "Use the next code cell to create a GeoDataFrame `sel_counties` that contains a subset of the rows (and all of the columns) from the `CA_stats` GeoDataFrame.  In particular, you should select counties where:\n",
        "- there are at least 100,000 households making \\$150,000 per year,\n",
        "- the median age is less than 38.5, and\n",
        "- the density of inhabitants is at least 285 (per square kilometer).\n",
        "\n",
        "Additionally, selected counties should satisfy at least one of the following criteria:\n",
        "- there are at least 500,000 households making \\$150,000 per year,\n",
        "- the median age is less than 35.5, or\n",
        "- the density of inhabitants is at least 1400 (per square kilometer)."
      ]
    },
    {
      "cell_type": "code",
      "metadata": {
        "id": "-oXBsfZaVVEP",
        "colab_type": "code",
        "colab": {}
      },
      "source": [
        "# Your code here\n",
        "sel_counties = CA_stats.loc[((CA_stats.high_earners > 100000) & \n",
        "                            (CA_stats.median_age < 38.5) & \n",
        "                            (CA_stats.density > 285) & \n",
        "                            ((CA_stats.high_earners > 500000) | \n",
        "                             (CA_stats.median_age < 35.5) | \n",
        "                             (CA_stats.density > 1400)))]"
      ],
      "execution_count": null,
      "outputs": []
    },
    {
      "cell_type": "code",
      "metadata": {
        "id": "FFV9chW0Vt1O",
        "colab_type": "code",
        "colab": {}
      },
      "source": [
        "starbucks_gdf = gpd.GeoDataFrame(starbucks, geometry=gpd.points_from_xy(starbucks.Longitude, starbucks.Latitude))\n",
        "starbucks_gdf = starbucks_gdf.set_crs(epsg=4326)"
      ],
      "execution_count": null,
      "outputs": []
    },
    {
      "cell_type": "code",
      "metadata": {
        "id": "m--lPSZuWXMh",
        "colab_type": "code",
        "colab": {}
      },
      "source": [
        "# When sjoin in Colab doesnt work...\n",
        "!apt update\n",
        "!apt upgrade\n",
        "!apt install gdal-bin python-gdal python3-gdal "
      ],
      "execution_count": null,
      "outputs": []
    },
    {
      "cell_type": "code",
      "metadata": {
        "id": "JCcM9jOEVufH",
        "colab_type": "code",
        "colab": {
          "base_uri": "https://localhost:8080/",
          "height": 502
        },
        "outputId": "a1172431-a993-4d69-f437-c46b5ed1a88d"
      },
      "source": [
        "import geopandas\n",
        "num_stores = len(gpd.sjoin(starbucks_gdf, sel_counties))\n",
        "print(num_stores)"
      ],
      "execution_count": null,
      "outputs": [
        {
          "output_type": "error",
          "ename": "ImportError",
          "evalue": "ignored",
          "traceback": [
            "\u001b[0;31m---------------------------------------------------------------------------\u001b[0m",
            "\u001b[0;31mImportError\u001b[0m                               Traceback (most recent call last)",
            "\u001b[0;32m<ipython-input-65-edbeef126315>\u001b[0m in \u001b[0;36m<module>\u001b[0;34m()\u001b[0m\n\u001b[1;32m      1\u001b[0m \u001b[0;32mimport\u001b[0m \u001b[0mgeopandas\u001b[0m\u001b[0;34m\u001b[0m\u001b[0;34m\u001b[0m\u001b[0m\n\u001b[0;32m----> 2\u001b[0;31m \u001b[0mnum_stores\u001b[0m \u001b[0;34m=\u001b[0m \u001b[0mlen\u001b[0m\u001b[0;34m(\u001b[0m\u001b[0mgpd\u001b[0m\u001b[0;34m.\u001b[0m\u001b[0msjoin\u001b[0m\u001b[0;34m(\u001b[0m\u001b[0mstarbucks_gdf\u001b[0m\u001b[0;34m,\u001b[0m \u001b[0msel_counties\u001b[0m\u001b[0;34m)\u001b[0m\u001b[0;34m)\u001b[0m\u001b[0;34m\u001b[0m\u001b[0;34m\u001b[0m\u001b[0m\n\u001b[0m\u001b[1;32m      3\u001b[0m \u001b[0mprint\u001b[0m\u001b[0;34m(\u001b[0m\u001b[0mnum_stores\u001b[0m\u001b[0;34m)\u001b[0m\u001b[0;34m\u001b[0m\u001b[0;34m\u001b[0m\u001b[0m\n",
            "\u001b[0;32m/usr/local/lib/python3.6/dist-packages/geopandas/tools/sjoin.py\u001b[0m in \u001b[0;36msjoin\u001b[0;34m(left_df, right_df, how, op, lsuffix, rsuffix)\u001b[0m\n\u001b[1;32m     86\u001b[0m             \u001b[0;31m# keep them the same\u001b[0m\u001b[0;34m\u001b[0m\u001b[0;34m\u001b[0m\u001b[0;34m\u001b[0m\u001b[0m\n\u001b[1;32m     87\u001b[0m             \u001b[0mpredicate\u001b[0m \u001b[0;34m=\u001b[0m \u001b[0mop\u001b[0m\u001b[0;34m\u001b[0m\u001b[0;34m\u001b[0m\u001b[0m\n\u001b[0;32m---> 88\u001b[0;31m             \u001b[0msindex\u001b[0m \u001b[0;34m=\u001b[0m \u001b[0mright_df\u001b[0m\u001b[0;34m.\u001b[0m\u001b[0msindex\u001b[0m\u001b[0;34m\u001b[0m\u001b[0;34m\u001b[0m\u001b[0m\n\u001b[0m\u001b[1;32m     89\u001b[0m             \u001b[0minput_geoms\u001b[0m \u001b[0;34m=\u001b[0m \u001b[0mleft_df\u001b[0m\u001b[0;34m.\u001b[0m\u001b[0mgeometry\u001b[0m\u001b[0;34m\u001b[0m\u001b[0;34m\u001b[0m\u001b[0m\n\u001b[1;32m     90\u001b[0m \u001b[0;34m\u001b[0m\u001b[0m\n",
            "\u001b[0;32m/usr/local/lib/python3.6/dist-packages/geopandas/base.py\u001b[0m in \u001b[0;36msindex\u001b[0;34m(self)\u001b[0m\n\u001b[1;32m    591\u001b[0m     \u001b[0;32mdef\u001b[0m \u001b[0msindex\u001b[0m\u001b[0;34m(\u001b[0m\u001b[0mself\u001b[0m\u001b[0;34m)\u001b[0m\u001b[0;34m:\u001b[0m\u001b[0;34m\u001b[0m\u001b[0;34m\u001b[0m\u001b[0m\n\u001b[1;32m    592\u001b[0m         \u001b[0;32mif\u001b[0m \u001b[0;32mnot\u001b[0m \u001b[0mself\u001b[0m\u001b[0;34m.\u001b[0m\u001b[0m_sindex_generated\u001b[0m\u001b[0;34m:\u001b[0m\u001b[0;34m\u001b[0m\u001b[0;34m\u001b[0m\u001b[0m\n\u001b[0;32m--> 593\u001b[0;31m             \u001b[0mself\u001b[0m\u001b[0;34m.\u001b[0m\u001b[0m_generate_sindex\u001b[0m\u001b[0;34m(\u001b[0m\u001b[0;34m)\u001b[0m\u001b[0;34m\u001b[0m\u001b[0;34m\u001b[0m\u001b[0m\n\u001b[0m\u001b[1;32m    594\u001b[0m         \u001b[0;32mreturn\u001b[0m \u001b[0mself\u001b[0m\u001b[0;34m.\u001b[0m\u001b[0m_sindex\u001b[0m\u001b[0;34m\u001b[0m\u001b[0;34m\u001b[0m\u001b[0m\n\u001b[1;32m    595\u001b[0m \u001b[0;34m\u001b[0m\u001b[0m\n",
            "\u001b[0;32m/usr/local/lib/python3.6/dist-packages/geopandas/base.py\u001b[0m in \u001b[0;36m_generate_sindex\u001b[0;34m(self)\u001b[0m\n\u001b[1;32m     96\u001b[0m \u001b[0;34m\u001b[0m\u001b[0m\n\u001b[1;32m     97\u001b[0m     \u001b[0;32mdef\u001b[0m \u001b[0m_generate_sindex\u001b[0m\u001b[0;34m(\u001b[0m\u001b[0mself\u001b[0m\u001b[0;34m)\u001b[0m\u001b[0;34m:\u001b[0m\u001b[0;34m\u001b[0m\u001b[0;34m\u001b[0m\u001b[0m\n\u001b[0;32m---> 98\u001b[0;31m         \u001b[0msindex_cls\u001b[0m \u001b[0;34m=\u001b[0m \u001b[0mget_sindex_class\u001b[0m\u001b[0;34m(\u001b[0m\u001b[0;34m)\u001b[0m\u001b[0;34m\u001b[0m\u001b[0;34m\u001b[0m\u001b[0m\n\u001b[0m\u001b[1;32m     99\u001b[0m         \u001b[0;32mif\u001b[0m \u001b[0msindex_cls\u001b[0m \u001b[0;32mis\u001b[0m \u001b[0;32mnot\u001b[0m \u001b[0;32mNone\u001b[0m\u001b[0;34m:\u001b[0m\u001b[0;34m\u001b[0m\u001b[0;34m\u001b[0m\u001b[0m\n\u001b[1;32m    100\u001b[0m             \u001b[0m_sindex\u001b[0m \u001b[0;34m=\u001b[0m \u001b[0msindex_cls\u001b[0m\u001b[0;34m(\u001b[0m\u001b[0mself\u001b[0m\u001b[0;34m.\u001b[0m\u001b[0mgeometry\u001b[0m\u001b[0;34m)\u001b[0m\u001b[0;34m\u001b[0m\u001b[0;34m\u001b[0m\u001b[0m\n",
            "\u001b[0;32m/usr/local/lib/python3.6/dist-packages/geopandas/sindex.py\u001b[0m in \u001b[0;36mget_sindex_class\u001b[0;34m()\u001b[0m\n\u001b[1;32m     41\u001b[0m         \u001b[0;32mreturn\u001b[0m \u001b[0mRTreeIndex\u001b[0m\u001b[0;34m\u001b[0m\u001b[0;34m\u001b[0m\u001b[0m\n\u001b[1;32m     42\u001b[0m     raise ImportError(\n\u001b[0;32m---> 43\u001b[0;31m         \u001b[0;34m\"Spatial indexes require either `rtree` or `pygeos`. \"\u001b[0m\u001b[0;34m\u001b[0m\u001b[0;34m\u001b[0m\u001b[0m\n\u001b[0m\u001b[1;32m     44\u001b[0m         \u001b[0;34m\"See installation instructions at https://geopandas.org/install.html\"\u001b[0m\u001b[0;34m\u001b[0m\u001b[0;34m\u001b[0m\u001b[0m\n\u001b[1;32m     45\u001b[0m     )\n",
            "\u001b[0;31mImportError\u001b[0m: Spatial indexes require either `rtree` or `pygeos`. See installation instructions at https://geopandas.org/install.html",
            "",
            "\u001b[0;31m---------------------------------------------------------------------------\u001b[0;32m\nNOTE: If your import is failing due to a missing package, you can\nmanually install dependencies using either !pip or !apt.\n\nTo view examples of installing some common dependencies, click the\n\"Open Examples\" button below.\n\u001b[0;31m---------------------------------------------------------------------------\u001b[0m\n"
          ]
        }
      ]
    },
    {
      "cell_type": "code",
      "metadata": {
        "id": "dxj2-JEuVylv",
        "colab_type": "code",
        "colab": {}
      },
      "source": [
        "# Create a base map\n",
        "m_6 = emap.Map(center=[37,-120], zoom=6)\n",
        "\n",
        "# Your code here: show selected store locations\n",
        "selected_location = gpd.sjoin(starbucks_gdf, sel_counties)\n",
        "for idx, row in selected_location.iterrows():\n",
        "    emap.folium.Marker([ row[\"Latitude\"], row[\"Longitude\"]]).add_to(m_6)"
      ],
      "execution_count": null,
      "outputs": []
    }
  ]
}